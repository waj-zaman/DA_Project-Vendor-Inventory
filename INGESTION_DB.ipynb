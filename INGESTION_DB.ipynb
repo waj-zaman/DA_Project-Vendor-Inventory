{
 "cells": [
  {
   "cell_type": "code",
   "execution_count": 2,
   "id": "ff1c8fe4-77b1-41bc-ad64-c24316c484c9",
   "metadata": {},
   "outputs": [],
   "source": [
    "import duckdb\n",
    "import time\n",
    "import logging\n",
    "import os\n",
    "\n",
    "database_path = \"/vendor_inventory.duckdb\"\n",
    "dataset_path = \"data\"\n",
    "log_path = \"log/ingestion_db.log\"\n",
    "\n",
    "conn = duckdb.connect(database_path)\n",
    "\n",
    "# Configure the logging file\n",
    "logging.basicConfig(\n",
    "    filename=log_path,\n",
    "    level=logging.INFO,\n",
    "    format='%(asctime)s - %(levelname)s - %(message)s',\n",
    "    filemode='a'\n",
    ")\n",
    "\n",
    "# core Ingestion function\n",
    "def load_raw_data_duckdb():\n",
    "  '''This function is used to ingest all the data directly into db without pandas'''\n",
    "  start_time = time.time()\n",
    "\n",
    "  for file in os.listdir(dataset_path):\n",
    "    if file.endswith(\".csv\"):\n",
    "      file_start = time.time()\n",
    "\n",
    "      table_name = file[:-4]\n",
    "      csv_file = f\"{dataset_path}/{file}\"\n",
    "      conn.execute(f\"CREATE TABLE {table_name} AS SELECT * FROM read_csv_auto('{csv_file}');\")\n",
    "\n",
    "      file_end = time.time()\n",
    "      logging.info(f\"Ingested {file} into table {table_name} in {file_end - file_start}\")\n",
    "      print (f\"Ingested {file} into {table_name} in vendor_inventory.duckdb\")\n",
    "\n",
    "  end_time = time.time()\n",
    "  logging.info(f\"Total time taken by ingestion process: {end_time - start_time}\")\n",
    "  print (f\"Total time taken by ingestion process: {end_time - start_time}\")\n",
    "\n",
    "if __name__ == \"__main__\":\n",
    "  load_raw_data_duckdb()"
   ]
  },
  {
   "cell_type": "code",
   "execution_count": 3,
   "id": "671f010a-64b8-493f-812f-b2b32363ba6d",
   "metadata": {},
   "outputs": [],
   "source": []
  },
  {
   "cell_type": "code",
   "execution_count": 4,
   "id": "3f5cf75e-0616-41fe-b429-8b690e89d8eb",
   "metadata": {},
   "outputs": [],
   "source": []
  },
  {
   "cell_type": "code",
   "execution_count": 5,
   "id": "1e044f23-e74f-46c3-addc-996aed7dc261",
   "metadata": {},
   "outputs": [
    {
     "name": "stdout",
     "output_type": "stream",
     "text": [
      "Ingested begin_inventory.csv into begin_inventory in vendor_inventory.duckdb\n",
      "Ingested end_inventory.csv into end_inventory in vendor_inventory.duckdb\n",
      "Ingested purchases.csv into purchases in vendor_inventory.duckdb\n",
      "Ingested purchase_prices.csv into purchase_prices in vendor_inventory.duckdb\n",
      "Ingested sales.csv into sales in vendor_inventory.duckdb\n",
      "Ingested vendor_invoice.csv into vendor_invoice in vendor_inventory.duckdb\n",
      "Total time taken by ingestion process: 13.394941806793213\n"
     ]
    }
   ],
   "source": []
  },
  {
   "cell_type": "code",
   "execution_count": null,
   "id": "be14a0d2-18d1-441e-925a-1c281f275b8b",
   "metadata": {},
   "outputs": [],
   "source": []
  }
 ],
 "metadata": {
  "kernelspec": {
   "display_name": "Python 3 (ipykernel)",
   "language": "python",
   "name": "python3"
  },
  "language_info": {
   "codemirror_mode": {
    "name": "ipython",
    "version": 3
   },
   "file_extension": ".py",
   "mimetype": "text/x-python",
   "name": "python",
   "nbconvert_exporter": "python",
   "pygments_lexer": "ipython3",
   "version": "3.13.2"
  }
 },
 "nbformat": 4,
 "nbformat_minor": 5
}
