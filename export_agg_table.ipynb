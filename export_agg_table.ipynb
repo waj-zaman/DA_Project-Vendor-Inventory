{
 "cells": [
  {
   "cell_type": "code",
   "execution_count": 1,
   "id": "a2d4c29e-7a3e-4f56-a014-4ee8b5f93231",
   "metadata": {},
   "outputs": [
    {
     "name": "stdout",
     "output_type": "stream",
     "text": [
      "Data exported to exported_data.csv\n"
     ]
    }
   ],
   "source": [
    "import pandas as pd\n",
    "import duckdb  # or sqlite3 / sqlalchemy depending on DB\n",
    "from sqlalchemy import create_engine\n",
    "\n",
    "# Connect to your DB\n",
    "conn = create_engine(\"duckdb:///vendor_inventory.duckdb\")\n",
    "\n",
    "# Read table into pandas\n",
    "df = pd.read_sql(\"SELECT * FROM vendor_sales_summary\", conn)\n",
    "\n",
    "# Export to CSV\n",
    "df.to_csv(\"exported_data.csv\", index=False)\n",
    "\n",
    "print(\"Data exported to exported_data.csv\")\n"
   ]
  },
  {
   "cell_type": "code",
   "execution_count": null,
   "id": "e2d29788-f41c-4d36-acc8-0eef3eb706f4",
   "metadata": {},
   "outputs": [],
   "source": []
  }
 ],
 "metadata": {
  "kernelspec": {
   "display_name": "Python 3 (ipykernel)",
   "language": "python",
   "name": "python3"
  },
  "language_info": {
   "codemirror_mode": {
    "name": "ipython",
    "version": 3
   },
   "file_extension": ".py",
   "mimetype": "text/x-python",
   "name": "python",
   "nbconvert_exporter": "python",
   "pygments_lexer": "ipython3",
   "version": "3.13.2"
  }
 },
 "nbformat": 4,
 "nbformat_minor": 5
}
